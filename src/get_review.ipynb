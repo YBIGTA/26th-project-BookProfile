{
 "cells": [
  {
   "cell_type": "markdown",
   "metadata": {},
   "source": [
    "## 원하는 책에 대한 리뷰만을 가져와서 json에 저장하는 코드."
   ]
  },
  {
   "cell_type": "markdown",
   "metadata": {},
   "source": [
    "### 필요한 파이썬 라이브러리"
   ]
  },
  {
   "cell_type": "code",
   "execution_count": 12,
   "metadata": {},
   "outputs": [],
   "source": [
    "from pymongo import MongoClient\n",
    "import os\n",
    "from dotenv import load_dotenv\n",
    "from bson import ObjectId\n",
    "import json\n",
    "import re"
   ]
  },
  {
   "cell_type": "markdown",
   "metadata": {},
   "source": [
    "### DB와 연결"
   ]
  },
  {
   "cell_type": "code",
   "execution_count": 13,
   "metadata": {},
   "outputs": [],
   "source": [
    "load_dotenv()\n",
    "\n",
    "connection_URI = os.getenv(\"MONGO_URI\")\n",
    "if not connection_URI:\n",
    "    raise ValueError(\"환경 변수 'MONGO_URI'가 설정되어 있지 않습니다.\")\n",
    "\n",
    "try:\n",
    "    client = MongoClient(connection_URI)\n",
    "except Exception as e:\n",
    "    raise ConnectionError(f\"MongoDB 연결 실패: {e}\")\n",
    "\n",
    "db = client.get_database(\"crawling\")"
   ]
  },
  {
   "cell_type": "markdown",
   "metadata": {},
   "source": [
    "### DB 내에서 책 리뷰 추출"
   ]
  },
  {
   "cell_type": "code",
   "execution_count": 14,
   "metadata": {},
   "outputs": [
    {
     "name": "stdout",
     "output_type": "stream",
     "text": [
      "해당 책의 리뷰 수:500\n",
      "\"review\" 필드가 The_Book_Thief.json 파일에 저장되었습니다.\n"
     ]
    }
   ],
   "source": [
    "# 리뷰를 찾고자 하는 책 이름 (직접 수정)\n",
    "book_name = \"The Book Thief\"\n",
    "\n",
    "books_collection = db.get_collection(\"books\")\n",
    "reviews_collection = db.get_collection(\"reviews\")\n",
    "\n",
    "book = books_collection.find_one({\"book_name\": book_name})\n",
    "if book:\n",
    "    book_id = book['_id']\n",
    "    \n",
    "    reviews = list(reviews_collection.find({\"book_id\": book_id}))\n",
    "    print(f\"해당 책의 리뷰 수:{len(reviews)}\")\n",
    "\n",
    "    review_texts = [review.get(\"review\", \"\") for review in reviews]\n",
    "    safe_book_name = re.sub(r'[^a-zA-Z0-9가-힣]', '_', book_name)\n",
    "\n",
    "    output_file = f\"{safe_book_name}.json\"\n",
    "    try:\n",
    "        with open(output_file, \"w\", encoding=\"utf-8\") as f:\n",
    "            json.dump(review_texts, f, ensure_ascii=False, indent=4)\n",
    "        print(f'\"review\" 필드가 {output_file} 파일에 저장되었습니다.')\n",
    "    except Exception as e:\n",
    "        print(f\"파일 저장 실패: {e}\")\n",
    "else:\n",
    "    print(\"해당 제목의 책을 찾지 못했습니다.\")"
   ]
  }
 ],
 "metadata": {
  "kernelspec": {
   "display_name": "main",
   "language": "python",
   "name": "python3"
  },
  "language_info": {
   "codemirror_mode": {
    "name": "ipython",
    "version": 3
   },
   "file_extension": ".py",
   "mimetype": "text/x-python",
   "name": "python",
   "nbconvert_exporter": "python",
   "pygments_lexer": "ipython3",
   "version": "3.13.0"
  }
 },
 "nbformat": 4,
 "nbformat_minor": 2
}
